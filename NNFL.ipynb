{
 "cells": [
  {
   "cell_type": "markdown",
   "metadata": {
    "colab_type": "text",
    "id": "view-in-github"
   },
   "source": [
    "<a href=\"https://colab.research.google.com/github/sarthak-srivastava/Learning-Iterative-Image-Reconstruction/blob/master/NNFL.ipynb\" target=\"_parent\"><img src=\"https://colab.research.google.com/assets/colab-badge.svg\" alt=\"Open In Colab\"/></a>"
   ]
  },
  {
   "cell_type": "markdown",
   "metadata": {
    "colab_type": "text",
    "id": "duWV_bfxXbgZ"
   },
   "source": [
    "Link to the paper: http://www.ais.uni-bonn.de/behnke/papers/ijcai01.pdf"
   ]
  },
  {
   "cell_type": "code",
   "execution_count": 1,
   "metadata": {
    "colab": {},
    "colab_type": "code",
    "id": "HUK7ySBFWdW3"
   },
   "outputs": [],
   "source": [
    "#Lets get started by loading our basic dependencies\n",
    "import tensorflow as tf\n",
    "import random\n",
    "import numpy as np\n",
    "import matplotlib.pyplot as plt\n",
    "%matplotlib inline"
   ]
  },
  {
   "cell_type": "code",
   "execution_count": 14,
   "metadata": {},
   "outputs": [],
   "source": [
    "import argparse\n"
   ]
  },
  {
   "cell_type": "code",
   "execution_count": 2,
   "metadata": {
    "colab": {},
    "colab_type": "code",
    "id": "Wm5VUmRSOflf"
   },
   "outputs": [],
   "source": [
    "from tqdm import tqdm\n",
    "from skimage import data, color\n",
    "from skimage.transform import rescale, resize, downscale_local_mean"
   ]
  },
  {
   "cell_type": "code",
   "execution_count": 3,
   "metadata": {
    "colab": {},
    "colab_type": "code",
    "id": "EwYpk88uWslH"
   },
   "outputs": [],
   "source": [
    "from tensorflow.examples.tutorials.mnist import input_data\n",
    "#mnist = input_data.read_data_sets(\"MNIST_data/\")"
   ]
  },
  {
   "cell_type": "code",
   "execution_count": 5,
   "metadata": {
    "colab": {
     "base_uri": "https://localhost:8080/",
     "height": 85
    },
    "colab_type": "code",
    "id": "jsc5rrTzQLbd",
    "outputId": "9619b8e5-5b4a-46c5-e038-002b972ebdfd"
   },
   "outputs": [
    {
     "name": "stdout",
     "output_type": "stream",
     "text": [
      "Extracting MNIST_data/train-images-idx3-ubyte.gz\n",
      "Successfully downloaded train-labels-idx1-ubyte.gz 28881 bytes.\n",
      "WARNING:tensorflow:From /home/sarthak/.local/lib/python3.6/site-packages/tensorflow/contrib/learn/python/learn/datasets/mnist.py:267: extract_labels (from tensorflow.contrib.learn.python.learn.datasets.mnist) is deprecated and will be removed in a future version.\n",
      "Instructions for updating:\n",
      "Please use tf.data to implement this functionality.\n",
      "Extracting MNIST_data/train-labels-idx1-ubyte.gz\n",
      "WARNING:tensorflow:From /home/sarthak/.local/lib/python3.6/site-packages/tensorflow/contrib/learn/python/learn/datasets/mnist.py:110: dense_to_one_hot (from tensorflow.contrib.learn.python.learn.datasets.mnist) is deprecated and will be removed in a future version.\n",
      "Instructions for updating:\n",
      "Please use tf.one_hot on tensors.\n",
      "Successfully downloaded t10k-images-idx3-ubyte.gz 1648877 bytes.\n",
      "Extracting MNIST_data/t10k-images-idx3-ubyte.gz\n",
      "Successfully downloaded t10k-labels-idx1-ubyte.gz 4542 bytes.\n",
      "Extracting MNIST_data/t10k-labels-idx1-ubyte.gz\n",
      "WARNING:tensorflow:From /home/sarthak/.local/lib/python3.6/site-packages/tensorflow/contrib/learn/python/learn/datasets/mnist.py:290: DataSet.__init__ (from tensorflow.contrib.learn.python.learn.datasets.mnist) is deprecated and will be removed in a future version.\n",
      "Instructions for updating:\n",
      "Please use alternatives such as official/mnist/dataset.py from tensorflow/models.\n"
     ]
    }
   ],
   "source": [
    "mnist = input_data.read_data_sets('MNIST_data', one_hot=True)\n"
   ]
  },
  {
   "cell_type": "code",
   "execution_count": 6,
   "metadata": {
    "colab": {
     "base_uri": "https://localhost:8080/",
     "height": 34
    },
    "colab_type": "code",
    "id": "I3J37AhQWu5l",
    "outputId": "4b9b4fb5-89af-42b8-c8ce-9595f132da65"
   },
   "outputs": [
    {
     "data": {
      "text/plain": [
       "(55000, 784)"
      ]
     },
     "execution_count": 6,
     "metadata": {},
     "output_type": "execute_result"
    }
   ],
   "source": [
    "x_train = mnist.train.images[:55000,:]\n",
    "x_train.shape"
   ]
  },
  {
   "cell_type": "code",
   "execution_count": 7,
   "metadata": {
    "colab": {
     "base_uri": "https://localhost:8080/",
     "height": 265
    },
    "colab_type": "code",
    "id": "eTfWGyvGW61V",
    "outputId": "a5074e7d-b4dc-4343-e619-c6e3d878ecaf"
   },
   "outputs": [
    {
     "data": {
      "image/png": "[encoded data removed]",
      "text/plain": [
       "<Figure size 432x288 with 1 Axes>"
      ]
     },
     "metadata": {},
     "output_type": "display_data"
    }
   ],
   "source": [
    "#Let's have a look at a random image\n",
    "RandomNum = random.randint(0,55000)\n",
    "image = x_train[RandomNum].reshape([28,28])\n",
    "plt.imshow(image, cmap=plt.get_cmap('gray_r'))\n",
    "plt.show()"
   ]
  },
  {
   "cell_type": "code",
   "execution_count": null,
   "metadata": {
    "colab": {
     "base_uri": "https://localhost:8080/",
     "height": 34
    },
    "colab_type": "code",
    "id": "YT2L7WiIwp9x",
    "outputId": "db30355c-2b0a-44c4-c9fa-31c5a2e380af"
   },
   "outputs": [],
   "source": []
  },
  {
   "cell_type": "code",
   "execution_count": 8,
   "metadata": {
    "colab": {
     "base_uri": "https://localhost:8080/",
     "height": 51
    },
    "colab_type": "code",
    "id": "eWGKIeEUuHN-",
    "outputId": "6c44ade2-6328-4e84-808e-3022870261f5"
   },
   "outputs": [
    {
     "name": "stderr",
     "output_type": "stream",
     "text": [
      "/home/sarthak/anaconda3/lib/python3.6/site-packages/skimage/transform/_warps.py:84: UserWarning: The default mode, 'constant', will be changed to 'reflect' in skimage 0.15.\n",
      "  warn(\"The default mode, 'constant', will be changed to 'reflect' in \"\n"
     ]
    }
   ],
   "source": [
    "x =[0]*55000\n",
    "image_label = [0]*55000\n",
    "image_train = [0]*55000\n",
    "for i in range(55000):\n",
    "  x[i] = x_train[i].reshape([28,28])\n",
    "  image_label[i] = x_train[i].reshape([784,1])\n",
    "  image_train[i] = resize(x[i], (14,14))\n",
    "\n",
    " "
   ]
  },
  {
   "cell_type": "code",
   "execution_count": 9,
   "metadata": {
    "colab": {
     "base_uri": "https://localhost:8080/",
     "height": 265
    },
    "colab_type": "code",
    "id": "C-kqpRRKysiu",
    "outputId": "56f1a0e0-6f1a-4bd0-8ea2-9031096dfb89"
   },
   "outputs": [
    {
     "data": {
      "image/png": "[encoded data removed]",
      "text/plain": [
       "<Figure size 432x288 with 1 Axes>"
      ]
     },
     "metadata": {},
     "output_type": "display_data"
    }
   ],
   "source": [
    "plt.imshow(image_train[RandomNum])\n",
    "plt.show()"
   ]
  },
  {
   "cell_type": "code",
   "execution_count": 10,
   "metadata": {
    "colab": {},
    "colab_type": "code",
    "id": "uxmupT_xzhrO"
   },
   "outputs": [],
   "source": [
    "for i in range(55000):\n",
    "  image_train[i] = image_train[i].reshape([196,1]) "
   ]
  },
  {
   "cell_type": "code",
   "execution_count": 12,
   "metadata": {
    "colab": {},
    "colab_type": "code",
    "id": "laDogaoK0AZW"
   },
   "outputs": [],
   "source": [
    "from itertools import product\n",
    "\n",
    "from stackrnn import StackRNNCell, StackLSTMCell, RecurrentWrapper"
   ]
  },
  {
   "cell_type": "code",
   "execution_count": 15,
   "metadata": {},
   "outputs": [
    {
     "name": "stderr",
     "output_type": "stream",
     "text": [
      "usage: ipykernel_launcher.py [-h] [-N N_ITER] [-S N_SEQ_PER_ITER]\n",
      "                             model task n_symbols\n",
      "ipykernel_launcher.py: error: the following arguments are required: task, n_symbols\n"
     ]
    },
    {
     "ename": "SystemExit",
     "evalue": "2",
     "output_type": "error",
     "traceback": [
      "An exception has occurred, use %tb to see the full traceback.\n",
      "\u001b[0;31mSystemExit\u001b[0m\u001b[0;31m:\u001b[0m 2\n"
     ]
    },
    {
     "name": "stderr",
     "output_type": "stream",
     "text": [
      "/home/sarthak/anaconda3/lib/python3.6/site-packages/IPython/core/interactiveshell.py:2971: UserWarning: To exit: use 'exit', 'quit', or Ctrl-D.\n",
      "  warn(\"To exit: use 'exit', 'quit', or Ctrl-D.\", stacklevel=1)\n"
     ]
    }
   ],
   "source": [
    "parser = argparse.ArgumentParser(\n",
    "    description = \"Train model on algorithmic patterns\")\n",
    "parser.add_argument(\"model\", type = str, default = None,\n",
    "                    help = \"rnn | lstm | srnn | slstm\")\n",
    "parser.add_argument(\"task\", type = int, default = None,\n",
    "                    help = \"1 | 2 | 3 | 4 | 5\")\n",
    "parser.add_argument(\"n_symbols\", type = int, default = None,\n",
    "                    help = \"number of symbols in alphabet\")\n",
    "parser.add_argument(\"-N\", type = int, default = 10000 // 100, \n",
    "                    help = \"number of iterations to train model\",\n",
    "                    dest = \"n_iter\")\n",
    "parser.add_argument(\"-S\", type = int, default = 100,\n",
    "                    help = \"number of sequences to train on per iteration\",\n",
    "                    dest = \"n_seq_per_iter\")\n",
    "\n",
    "args = parser.parse_args()\n",
    "\n",
    "# hyperparameter search on algorithmic patterns\n",
    "\n",
    "n_iterations = args.n_iter\n",
    "n_seq_per_iter = args.n_seq_per_iter\n",
    "\n",
    "assert args.task in [1, 2, 3, 4, 5]\n",
    "task = args.task\n",
    "n_symbols = args.n_symbols\n",
    "n_min = 2\n",
    "n_max_train = 15\n",
    "n_max_val = 19\n",
    "n_max_test = 60\n",
    "\n",
    "if args.model == \"rnn\" or args.model == \"lstm\":\n",
    "    hidden_sizes = [50, 100, 200]\n",
    "    hidden_layers = [1, 2]\n",
    "    sgd_lrs = [0.1, 0.01, 0.001]\n",
    "    n_stacks = [0]\n",
    "    ks = [0]\n",
    "elif args.model == \"srnn\" or args.model == \"slstm\":\n",
    "    hidden_sizes = [20, 40, 100]\n",
    "    hidden_layers = [1]\n",
    "    sgd_lrs = [0.1, 0.01, 0.001]\n",
    "    n_stacks = [1, 2, 5, 10]\n",
    "    ks = [1, 2]\n",
    "else:\n",
    "    print(parser.print_help())\n",
    "    sys.exit()\n",
    "\n"
   ]
  },
  {
   "cell_type": "code",
   "execution_count": 16,
   "metadata": {},
   "outputs": [
    {
     "ename": "NameError",
     "evalue": "name 'hidden_sizes' is not defined",
     "output_type": "error",
     "traceback": [
      "\u001b[0;31m---------------------------------------------------------------------------\u001b[0m",
      "\u001b[0;31mNameError\u001b[0m                                 Traceback (most recent call last)",
      "\u001b[0;32m<ipython-input-16-f339ff8f0e16>\u001b[0m in \u001b[0;36m<module>\u001b[0;34m()\u001b[0m\n\u001b[0;32m----> 1\u001b[0;31m \u001b[0;32mfor\u001b[0m \u001b[0mhidden_size\u001b[0m\u001b[0;34m,\u001b[0m \u001b[0mn_layers\u001b[0m\u001b[0;34m,\u001b[0m \u001b[0msgd_lr\u001b[0m\u001b[0;34m,\u001b[0m \u001b[0mn_stack\u001b[0m\u001b[0;34m,\u001b[0m \u001b[0mk\u001b[0m \u001b[0;32min\u001b[0m     \u001b[0mproduct\u001b[0m\u001b[0;34m(\u001b[0m\u001b[0mhidden_sizes\u001b[0m\u001b[0;34m,\u001b[0m \u001b[0mhidden_layers\u001b[0m\u001b[0;34m,\u001b[0m \u001b[0msgd_lrs\u001b[0m\u001b[0;34m,\u001b[0m \u001b[0mn_stacks\u001b[0m\u001b[0;34m,\u001b[0m \u001b[0mks\u001b[0m\u001b[0;34m)\u001b[0m\u001b[0;34m:\u001b[0m\u001b[0;34m\u001b[0m\u001b[0m\n\u001b[0m\u001b[1;32m      2\u001b[0m     \u001b[0mprint\u001b[0m\u001b[0;34m(\u001b[0m\u001b[0;34m\"=\"\u001b[0m \u001b[0;34m*\u001b[0m \u001b[0;36m60\u001b[0m\u001b[0;34m)\u001b[0m\u001b[0;34m\u001b[0m\u001b[0m\n\u001b[1;32m      3\u001b[0m     \u001b[0mprint\u001b[0m\u001b[0;34m(\u001b[0m\u001b[0;34m\" units: \"\u001b[0m\u001b[0;34m,\u001b[0m \u001b[0mhidden_size\u001b[0m\u001b[0;34m)\u001b[0m\u001b[0;34m\u001b[0m\u001b[0m\n\u001b[1;32m      4\u001b[0m     \u001b[0mprint\u001b[0m\u001b[0;34m(\u001b[0m\u001b[0;34m\" layers: \"\u001b[0m\u001b[0;34m,\u001b[0m \u001b[0mn_layers\u001b[0m\u001b[0;34m)\u001b[0m\u001b[0;34m\u001b[0m\u001b[0m\n\u001b[1;32m      5\u001b[0m     \u001b[0mprint\u001b[0m\u001b[0;34m(\u001b[0m\u001b[0;34m\" lr: \"\u001b[0m\u001b[0;34m,\u001b[0m \u001b[0msgd_lr\u001b[0m\u001b[0;34m)\u001b[0m\u001b[0;34m\u001b[0m\u001b[0m\n",
      "\u001b[0;31mNameError\u001b[0m: name 'hidden_sizes' is not defined"
     ]
    }
   ],
   "source": [
    "for hidden_size, n_layers, sgd_lr, n_stack, k in \\\n",
    "    product(hidden_sizes, hidden_layers, sgd_lrs, n_stacks, ks):\n",
    "    print(\"=\" * 60)\n",
    "    print(\" units: \", hidden_size)\n",
    "    print(\" layers: \", n_layers)\n",
    "    print(\" lr: \", sgd_lr)\n",
    "    print(\" stacks: \", n_stack)\n",
    "    print(\" k: \", k)\n",
    "    print(\"=\" * 60)\n",
    "    \n",
    "  "
   ]
  },
  {
   "cell_type": "code",
   "execution_count": 17,
   "metadata": {},
   "outputs": [
    {
     "ename": "IndentationError",
     "evalue": "unexpected indent (<ipython-input-17-a3addb9723e0>, line 2)",
     "output_type": "error",
     "traceback": [
      "\u001b[0;36m  File \u001b[0;32m\"<ipython-input-17-a3addb9723e0>\"\u001b[0;36m, line \u001b[0;32m2\u001b[0m\n\u001b[0;31m    with tf.Graph().as_default():\u001b[0m\n\u001b[0m    ^\u001b[0m\n\u001b[0;31mIndentationError\u001b[0m\u001b[0;31m:\u001b[0m unexpected indent\n"
     ]
    }
   ],
   "source": [
    "  # set up session\n",
    "with tf.Graph().as_default():\n",
    "    if args.model == \"rnn\":\n",
    "        cell = tf.nn.rnn_cell.MultiRNNCell([tf.nn.rnn_cell.BasicRNNCell(hidden_size) for _ in range(n_layers)])\n",
    "    elif args.model == \"lstm\":\n",
    "        cell = tf.nn.rnn_cell.MultiRNNCell([tf.nn.rnn_cell.BasicLSTMCell(hidden_size) for _ in range(n_layers)])\n",
    "    elif args.model == \"srnn\":\n",
    "        cell = StackRNNCell(hidden_size, no_op = False,n_stack = n_stack, k = k)\n",
    "    elif args.model == \"slstm\":\n",
    "        cell = StackLSTMCell(hidden_size, no_op = False,n_stack = n_stack, k = k)\n",
    "        model = RecurrentWrapper(cell, n_symbols = n_symbols, sgd_lr = sgd_lr)\n",
    "\n",
    "        sess = tf.Session()\n",
    "        sess.run([tf.global_variables_initializer(),\n",
    "                  tf.local_variables_initializer()])\n",
    "\n",
    "        n_max_train_ = 5\n",
    "        for i in range(n_iterations):\n",
    "            if i % 5 == 4:\n",
    "                n_max_train_ = min(n_max_train_ + 1, n_max_train)\n",
    "            gen = SeqGenerator(1, n_symbols, n_min = n_min,\n",
    "                               n_max = n_max_train_)\n",
    "            gen_ = SeqGenerator(1, n_symbols, n_min = n_min,\n",
    "                                n_max = n_max_val, sequential = True)\n",
    "            gen_test = SeqGenerator(1, n_symbols, n_min = n_min,\n",
    "                                    n_max = n_max_test, sequential = True)\n",
    "            losses = []\n",
    "            for j in range(n_seq_per_iter):\n",
    "                symbols_batch, targets_batch, _ = gen.next_sequence()\n",
    "                current_loss, _ = sess.run(\n",
    "                    [model.loss, model.train_op],\n",
    "                    feed_dict = { model.symbols : symbols_batch,\n",
    "                                  model.targets : targets_batch })\n",
    "                losses.append(current_loss.mean())\n",
    "                \n",
    "            print(\"Number of iterations:\", i)\n",
    "            print(\" \", sum(losses) / len(losses))\n",
    "\n",
    "            # calculate accuracy for train + validation set\n",
    "            sequences_correct = []\n",
    "            for n in range(n_min, n_max_val + 1):\n",
    "                # is_pred signifies if next symbol is predictable\n",
    "                symbols_batch_, targets_batch_, is_pred_ = \\\n",
    "                                gen_.next_sequence()\n",
    "                \n",
    "                predictions = sess.run(model.preds,\n",
    "                    feed_dict = { model.symbols : symbols_batch_ })\n",
    "\n",
    "                correct = all([np.argmax(t[0]) == p[0] for t, p, i in \\\n",
    "                               zip(targets_batch_, predictions, is_pred_)\n",
    "                               if i is True])\n",
    "                sequences_correct.append(correct)\n",
    "            print(\" \", sum(sequences_correct) / len(sequences_correct))\n",
    "\n",
    "            # calculate accuracy for train + validation + test set\n",
    "            sequences_correct = []\n",
    "            for n in range(n_min, n_max_test + 1):\n",
    "                symbols_batch_, targets_batch_, is_pred_ = \\\n",
    "                                gen_test.next_sequence()\n",
    "                \n",
    "                predictions = sess.run(model.preds,\n",
    "                    feed_dict = { model.symbols : symbols_batch_ })\n",
    "\n",
    "                correct = all([np.argmax(t[0]) == p[0] for t, p, i in \\\n",
    "                               zip(targets_batch_, predictions, is_pred_)\n",
    "                               if i is True])\n",
    "                sequences_correct.append(correct)\n",
    "            print(\" \", sum(sequences_correct) / len(sequences_correct))\n"
   ]
  },
  {
   "cell_type": "code",
   "execution_count": null,
   "metadata": {},
   "outputs": [],
   "source": []
  }
 ],
 "metadata": {
  "colab": {
   "include_colab_link": true,
   "name": "NNFL.ipynb",
   "provenance": [],
   "version": "0.3.2"
  },
  "kernelspec": {
   "display_name": "Python 3",
   "language": "python",
   "name": "python3"
  },
  "language_info": {
   "codemirror_mode": {
    "name": "ipython",
    "version": 3
   },
   "file_extension": ".py",
   "mimetype": "text/x-python",
   "name": "python",
   "nbconvert_exporter": "python",
   "pygments_lexer": "ipython3",
   "version": "3.6.5"
  }
 },
 "nbformat": 4,
 "nbformat_minor": 1
}
